{
  "nbformat": 4,
  "nbformat_minor": 0,
  "metadata": {
    "colab": {
      "provenance": [],
      "authorship_tag": "ABX9TyPwNLJSbceWMWaoiNYtCQXu",
      "include_colab_link": true
    },
    "kernelspec": {
      "name": "python3",
      "display_name": "Python 3"
    },
    "language_info": {
      "name": "python"
    }
  },
  "cells": [
    {
      "cell_type": "markdown",
      "metadata": {
        "id": "view-in-github",
        "colab_type": "text"
      },
      "source": [
        "<a href=\"https://colab.research.google.com/github/MatthewC00273575/Data-Science/blob/master/Chatgpt.ipynb\" target=\"_parent\"><img src=\"https://colab.research.google.com/assets/colab-badge.svg\" alt=\"Open In Colab\"/></a>"
      ]
    },
    {
      "cell_type": "code",
      "execution_count": 2,
      "metadata": {
        "colab": {
          "base_uri": "https://localhost:8080/"
        },
        "id": "aV58f8jX_8pk",
        "outputId": "def0c629-0364-4974-c7b7-3a2f8b35bd85"
      },
      "outputs": [
        {
          "output_type": "stream",
          "name": "stdout",
          "text": [
            "Epoch 1/50\n",
            "\u001b[1m250/250\u001b[0m \u001b[32m━━━━━━━━━━━━━━━━━━━━\u001b[0m\u001b[37m\u001b[0m \u001b[1m3s\u001b[0m 4ms/step - loss: 0.0507 - mae: 0.1595 - val_loss: 4.1019e-04 - val_mae: 0.0170\n",
            "Epoch 2/50\n",
            "\u001b[1m250/250\u001b[0m \u001b[32m━━━━━━━━━━━━━━━━━━━━\u001b[0m\u001b[37m\u001b[0m \u001b[1m1s\u001b[0m 3ms/step - loss: 1.6620e-04 - mae: 0.0101 - val_loss: 4.4779e-05 - val_mae: 0.0055\n",
            "Epoch 3/50\n",
            "\u001b[1m250/250\u001b[0m \u001b[32m━━━━━━━━━━━━━━━━━━━━\u001b[0m\u001b[37m\u001b[0m \u001b[1m1s\u001b[0m 3ms/step - loss: 4.2818e-05 - mae: 0.0053 - val_loss: 4.1975e-05 - val_mae: 0.0054\n",
            "Epoch 4/50\n",
            "\u001b[1m250/250\u001b[0m \u001b[32m━━━━━━━━━━━━━━━━━━━━\u001b[0m\u001b[37m\u001b[0m \u001b[1m1s\u001b[0m 3ms/step - loss: 4.1155e-05 - mae: 0.0052 - val_loss: 4.1974e-05 - val_mae: 0.0054\n",
            "Epoch 5/50\n",
            "\u001b[1m250/250\u001b[0m \u001b[32m━━━━━━━━━━━━━━━━━━━━\u001b[0m\u001b[37m\u001b[0m \u001b[1m1s\u001b[0m 3ms/step - loss: 3.9804e-05 - mae: 0.0051 - val_loss: 4.2509e-05 - val_mae: 0.0054\n",
            "Epoch 6/50\n",
            "\u001b[1m250/250\u001b[0m \u001b[32m━━━━━━━━━━━━━━━━━━━━\u001b[0m\u001b[37m\u001b[0m \u001b[1m2s\u001b[0m 5ms/step - loss: 3.7390e-05 - mae: 0.0050 - val_loss: 4.0766e-05 - val_mae: 0.0050\n",
            "Epoch 7/50\n",
            "\u001b[1m250/250\u001b[0m \u001b[32m━━━━━━━━━━━━━━━━━━━━\u001b[0m\u001b[37m\u001b[0m \u001b[1m2s\u001b[0m 5ms/step - loss: 3.4312e-05 - mae: 0.0047 - val_loss: 3.2995e-05 - val_mae: 0.0048\n",
            "Epoch 8/50\n",
            "\u001b[1m250/250\u001b[0m \u001b[32m━━━━━━━━━━━━━━━━━━━━\u001b[0m\u001b[37m\u001b[0m \u001b[1m1s\u001b[0m 3ms/step - loss: 3.0887e-05 - mae: 0.0045 - val_loss: 2.9342e-05 - val_mae: 0.0045\n",
            "Epoch 9/50\n",
            "\u001b[1m250/250\u001b[0m \u001b[32m━━━━━━━━━━━━━━━━━━━━\u001b[0m\u001b[37m\u001b[0m \u001b[1m1s\u001b[0m 3ms/step - loss: 3.0520e-05 - mae: 0.0045 - val_loss: 2.7570e-05 - val_mae: 0.0043\n",
            "Epoch 10/50\n",
            "\u001b[1m250/250\u001b[0m \u001b[32m━━━━━━━━━━━━━━━━━━━━\u001b[0m\u001b[37m\u001b[0m \u001b[1m1s\u001b[0m 3ms/step - loss: 2.6628e-05 - mae: 0.0042 - val_loss: 2.6089e-05 - val_mae: 0.0043\n",
            "Epoch 11/50\n",
            "\u001b[1m250/250\u001b[0m \u001b[32m━━━━━━━━━━━━━━━━━━━━\u001b[0m\u001b[37m\u001b[0m \u001b[1m1s\u001b[0m 3ms/step - loss: 2.4930e-05 - mae: 0.0041 - val_loss: 2.3476e-05 - val_mae: 0.0039\n",
            "Epoch 12/50\n",
            "\u001b[1m250/250\u001b[0m \u001b[32m━━━━━━━━━━━━━━━━━━━━\u001b[0m\u001b[37m\u001b[0m \u001b[1m1s\u001b[0m 3ms/step - loss: 2.3200e-05 - mae: 0.0039 - val_loss: 2.4616e-05 - val_mae: 0.0039\n",
            "Epoch 13/50\n",
            "\u001b[1m250/250\u001b[0m \u001b[32m━━━━━━━━━━━━━━━━━━━━\u001b[0m\u001b[37m\u001b[0m \u001b[1m1s\u001b[0m 3ms/step - loss: 2.0989e-05 - mae: 0.0037 - val_loss: 1.7468e-05 - val_mae: 0.0034\n",
            "Epoch 14/50\n",
            "\u001b[1m250/250\u001b[0m \u001b[32m━━━━━━━━━━━━━━━━━━━━\u001b[0m\u001b[37m\u001b[0m \u001b[1m1s\u001b[0m 3ms/step - loss: 1.7942e-05 - mae: 0.0034 - val_loss: 1.8477e-05 - val_mae: 0.0034\n",
            "Epoch 15/50\n",
            "\u001b[1m250/250\u001b[0m \u001b[32m━━━━━━━━━━━━━━━━━━━━\u001b[0m\u001b[37m\u001b[0m \u001b[1m1s\u001b[0m 6ms/step - loss: 1.6160e-05 - mae: 0.0032 - val_loss: 3.3632e-05 - val_mae: 0.0046\n",
            "Epoch 16/50\n",
            "\u001b[1m250/250\u001b[0m \u001b[32m━━━━━━━━━━━━━━━━━━━━\u001b[0m\u001b[37m\u001b[0m \u001b[1m1s\u001b[0m 5ms/step - loss: 1.5945e-05 - mae: 0.0032 - val_loss: 1.4256e-05 - val_mae: 0.0031\n",
            "Epoch 17/50\n",
            "\u001b[1m250/250\u001b[0m \u001b[32m━━━━━━━━━━━━━━━━━━━━\u001b[0m\u001b[37m\u001b[0m \u001b[1m1s\u001b[0m 3ms/step - loss: 1.4798e-05 - mae: 0.0031 - val_loss: 1.1312e-05 - val_mae: 0.0026\n",
            "Epoch 18/50\n",
            "\u001b[1m250/250\u001b[0m \u001b[32m━━━━━━━━━━━━━━━━━━━━\u001b[0m\u001b[37m\u001b[0m \u001b[1m1s\u001b[0m 3ms/step - loss: 1.5487e-05 - mae: 0.0031 - val_loss: 8.7360e-06 - val_mae: 0.0024\n",
            "Epoch 19/50\n",
            "\u001b[1m250/250\u001b[0m \u001b[32m━━━━━━━━━━━━━━━━━━━━\u001b[0m\u001b[37m\u001b[0m \u001b[1m1s\u001b[0m 3ms/step - loss: 1.4465e-05 - mae: 0.0030 - val_loss: 8.0302e-06 - val_mae: 0.0024\n",
            "Epoch 20/50\n",
            "\u001b[1m250/250\u001b[0m \u001b[32m━━━━━━━━━━━━━━━━━━━━\u001b[0m\u001b[37m\u001b[0m \u001b[1m1s\u001b[0m 3ms/step - loss: 9.1324e-06 - mae: 0.0024 - val_loss: 6.9198e-06 - val_mae: 0.0022\n",
            "Epoch 21/50\n",
            "\u001b[1m250/250\u001b[0m \u001b[32m━━━━━━━━━━━━━━━━━━━━\u001b[0m\u001b[37m\u001b[0m \u001b[1m1s\u001b[0m 3ms/step - loss: 1.0033e-05 - mae: 0.0026 - val_loss: 9.6190e-06 - val_mae: 0.0024\n",
            "Epoch 22/50\n",
            "\u001b[1m250/250\u001b[0m \u001b[32m━━━━━━━━━━━━━━━━━━━━\u001b[0m\u001b[37m\u001b[0m \u001b[1m1s\u001b[0m 3ms/step - loss: 8.2063e-06 - mae: 0.0023 - val_loss: 4.9696e-06 - val_mae: 0.0017\n",
            "Epoch 23/50\n",
            "\u001b[1m250/250\u001b[0m \u001b[32m━━━━━━━━━━━━━━━━━━━━\u001b[0m\u001b[37m\u001b[0m \u001b[1m1s\u001b[0m 3ms/step - loss: 6.8108e-06 - mae: 0.0021 - val_loss: 6.2870e-06 - val_mae: 0.0019\n",
            "Epoch 24/50\n",
            "\u001b[1m250/250\u001b[0m \u001b[32m━━━━━━━━━━━━━━━━━━━━\u001b[0m\u001b[37m\u001b[0m \u001b[1m1s\u001b[0m 3ms/step - loss: 5.1979e-06 - mae: 0.0018 - val_loss: 5.0421e-06 - val_mae: 0.0019\n",
            "Epoch 25/50\n",
            "\u001b[1m250/250\u001b[0m \u001b[32m━━━━━━━━━━━━━━━━━━━━\u001b[0m\u001b[37m\u001b[0m \u001b[1m1s\u001b[0m 3ms/step - loss: 5.4227e-06 - mae: 0.0019 - val_loss: 3.2851e-06 - val_mae: 0.0013\n",
            "Epoch 26/50\n",
            "\u001b[1m250/250\u001b[0m \u001b[32m━━━━━━━━━━━━━━━━━━━━\u001b[0m\u001b[37m\u001b[0m \u001b[1m2s\u001b[0m 5ms/step - loss: 3.3489e-06 - mae: 0.0014 - val_loss: 8.2677e-06 - val_mae: 0.0026\n",
            "Epoch 27/50\n",
            "\u001b[1m250/250\u001b[0m \u001b[32m━━━━━━━━━━━━━━━━━━━━\u001b[0m\u001b[37m\u001b[0m \u001b[1m1s\u001b[0m 5ms/step - loss: 5.9726e-06 - mae: 0.0019 - val_loss: 4.7100e-06 - val_mae: 0.0017\n",
            "Epoch 28/50\n",
            "\u001b[1m250/250\u001b[0m \u001b[32m━━━━━━━━━━━━━━━━━━━━\u001b[0m\u001b[37m\u001b[0m \u001b[1m1s\u001b[0m 3ms/step - loss: 3.2600e-06 - mae: 0.0014 - val_loss: 2.2191e-06 - val_mae: 0.0011\n",
            "Epoch 29/50\n",
            "\u001b[1m250/250\u001b[0m \u001b[32m━━━━━━━━━━━━━━━━━━━━\u001b[0m\u001b[37m\u001b[0m \u001b[1m1s\u001b[0m 3ms/step - loss: 4.1431e-06 - mae: 0.0016 - val_loss: 1.9987e-06 - val_mae: 0.0012\n",
            "Epoch 30/50\n",
            "\u001b[1m250/250\u001b[0m \u001b[32m━━━━━━━━━━━━━━━━━━━━\u001b[0m\u001b[37m\u001b[0m \u001b[1m1s\u001b[0m 3ms/step - loss: 5.7048e-06 - mae: 0.0019 - val_loss: 3.6698e-06 - val_mae: 0.0015\n",
            "Epoch 31/50\n",
            "\u001b[1m250/250\u001b[0m \u001b[32m━━━━━━━━━━━━━━━━━━━━\u001b[0m\u001b[37m\u001b[0m \u001b[1m1s\u001b[0m 3ms/step - loss: 2.7474e-06 - mae: 0.0013 - val_loss: 2.5499e-06 - val_mae: 0.0013\n",
            "Epoch 32/50\n",
            "\u001b[1m250/250\u001b[0m \u001b[32m━━━━━━━━━━━━━━━━━━━━\u001b[0m\u001b[37m\u001b[0m \u001b[1m1s\u001b[0m 4ms/step - loss: 3.7815e-06 - mae: 0.0015 - val_loss: 1.0554e-06 - val_mae: 8.1718e-04\n",
            "Epoch 33/50\n",
            "\u001b[1m250/250\u001b[0m \u001b[32m━━━━━━━━━━━━━━━━━━━━\u001b[0m\u001b[37m\u001b[0m \u001b[1m1s\u001b[0m 3ms/step - loss: 3.3950e-06 - mae: 0.0014 - val_loss: 1.9491e-06 - val_mae: 0.0012\n",
            "Epoch 34/50\n",
            "\u001b[1m250/250\u001b[0m \u001b[32m━━━━━━━━━━━━━━━━━━━━\u001b[0m\u001b[37m\u001b[0m \u001b[1m1s\u001b[0m 3ms/step - loss: 3.3392e-06 - mae: 0.0015 - val_loss: 1.4336e-06 - val_mae: 9.9622e-04\n",
            "Epoch 35/50\n",
            "\u001b[1m250/250\u001b[0m \u001b[32m━━━━━━━━━━━━━━━━━━━━\u001b[0m\u001b[37m\u001b[0m \u001b[1m1s\u001b[0m 3ms/step - loss: 2.0552e-06 - mae: 0.0011 - val_loss: 8.0132e-07 - val_mae: 6.6804e-04\n",
            "Epoch 36/50\n",
            "\u001b[1m250/250\u001b[0m \u001b[32m━━━━━━━━━━━━━━━━━━━━\u001b[0m\u001b[37m\u001b[0m \u001b[1m1s\u001b[0m 3ms/step - loss: 2.3014e-06 - mae: 0.0012 - val_loss: 2.2858e-06 - val_mae: 0.0013\n",
            "Epoch 37/50\n",
            "\u001b[1m250/250\u001b[0m \u001b[32m━━━━━━━━━━━━━━━━━━━━\u001b[0m\u001b[37m\u001b[0m \u001b[1m2s\u001b[0m 5ms/step - loss: 3.9615e-06 - mae: 0.0015 - val_loss: 6.8768e-07 - val_mae: 6.9838e-04\n",
            "Epoch 38/50\n",
            "\u001b[1m250/250\u001b[0m \u001b[32m━━━━━━━━━━━━━━━━━━━━\u001b[0m\u001b[37m\u001b[0m \u001b[1m2s\u001b[0m 3ms/step - loss: 3.0021e-06 - mae: 0.0012 - val_loss: 1.0010e-05 - val_mae: 0.0026\n",
            "Epoch 39/50\n",
            "\u001b[1m250/250\u001b[0m \u001b[32m━━━━━━━━━━━━━━━━━━━━\u001b[0m\u001b[37m\u001b[0m \u001b[1m1s\u001b[0m 3ms/step - loss: 4.4275e-06 - mae: 0.0017 - val_loss: 1.3811e-05 - val_mae: 0.0035\n",
            "Epoch 40/50\n",
            "\u001b[1m250/250\u001b[0m \u001b[32m━━━━━━━━━━━━━━━━━━━━\u001b[0m\u001b[37m\u001b[0m \u001b[1m1s\u001b[0m 3ms/step - loss: 3.7762e-06 - mae: 0.0014 - val_loss: 1.5787e-06 - val_mae: 0.0011\n",
            "Epoch 41/50\n",
            "\u001b[1m250/250\u001b[0m \u001b[32m━━━━━━━━━━━━━━━━━━━━\u001b[0m\u001b[37m\u001b[0m \u001b[1m1s\u001b[0m 4ms/step - loss: 2.5442e-06 - mae: 0.0012 - val_loss: 1.8476e-06 - val_mae: 0.0011\n",
            "Epoch 42/50\n",
            "\u001b[1m250/250\u001b[0m \u001b[32m━━━━━━━━━━━━━━━━━━━━\u001b[0m\u001b[37m\u001b[0m \u001b[1m1s\u001b[0m 3ms/step - loss: 2.2519e-06 - mae: 0.0012 - val_loss: 1.0252e-06 - val_mae: 7.6476e-04\n",
            "Epoch 43/50\n",
            "\u001b[1m250/250\u001b[0m \u001b[32m━━━━━━━━━━━━━━━━━━━━\u001b[0m\u001b[37m\u001b[0m \u001b[1m1s\u001b[0m 3ms/step - loss: 2.9714e-06 - mae: 0.0013 - val_loss: 1.0965e-06 - val_mae: 8.3221e-04\n",
            "Epoch 44/50\n",
            "\u001b[1m250/250\u001b[0m \u001b[32m━━━━━━━━━━━━━━━━━━━━\u001b[0m\u001b[37m\u001b[0m \u001b[1m1s\u001b[0m 3ms/step - loss: 1.5791e-06 - mae: 9.0190e-04 - val_loss: 1.7820e-06 - val_mae: 9.8297e-04\n",
            "Epoch 45/50\n",
            "\u001b[1m250/250\u001b[0m \u001b[32m━━━━━━━━━━━━━━━━━━━━\u001b[0m\u001b[37m\u001b[0m \u001b[1m2s\u001b[0m 4ms/step - loss: 7.6896e-06 - mae: 0.0021 - val_loss: 4.4751e-07 - val_mae: 5.6631e-04\n",
            "Epoch 46/50\n",
            "\u001b[1m250/250\u001b[0m \u001b[32m━━━━━━━━━━━━━━━━━━━━\u001b[0m\u001b[37m\u001b[0m \u001b[1m1s\u001b[0m 4ms/step - loss: 1.1009e-06 - mae: 8.2230e-04 - val_loss: 6.9287e-07 - val_mae: 6.8797e-04\n",
            "Epoch 47/50\n",
            "\u001b[1m250/250\u001b[0m \u001b[32m━━━━━━━━━━━━━━━━━━━━\u001b[0m\u001b[37m\u001b[0m \u001b[1m2s\u001b[0m 5ms/step - loss: 1.6307e-06 - mae: 0.0010 - val_loss: 3.4777e-06 - val_mae: 0.0017\n",
            "Epoch 48/50\n",
            "\u001b[1m250/250\u001b[0m \u001b[32m━━━━━━━━━━━━━━━━━━━━\u001b[0m\u001b[37m\u001b[0m \u001b[1m2s\u001b[0m 3ms/step - loss: 2.5174e-06 - mae: 0.0012 - val_loss: 2.5979e-06 - val_mae: 0.0013\n",
            "Epoch 49/50\n",
            "\u001b[1m250/250\u001b[0m \u001b[32m━━━━━━━━━━━━━━━━━━━━\u001b[0m\u001b[37m\u001b[0m \u001b[1m1s\u001b[0m 3ms/step - loss: 4.6817e-06 - mae: 0.0013 - val_loss: 4.6109e-07 - val_mae: 5.6985e-04\n",
            "Epoch 50/50\n",
            "\u001b[1m250/250\u001b[0m \u001b[32m━━━━━━━━━━━━━━━━━━━━\u001b[0m\u001b[37m\u001b[0m \u001b[1m1s\u001b[0m 3ms/step - loss: 1.0252e-06 - mae: 8.0277e-04 - val_loss: 5.6478e-07 - val_mae: 5.5784e-04\n",
            "\u001b[1m1/1\u001b[0m \u001b[32m━━━━━━━━━━━━━━━━━━━━\u001b[0m\u001b[37m\u001b[0m \u001b[1m0s\u001b[0m 163ms/step\n",
            "Predicted sum of 35 + 9: 43.91729\n"
          ]
        }
      ],
      "source": [
        "import numpy as np\n",
        "import pandas as pd\n",
        "import tensorflow as tf\n",
        "from tensorflow.keras.models import Sequential\n",
        "from tensorflow.keras.layers import SimpleRNN, Dense, Input\n",
        "from sklearn.model_selection import train_test_split\n",
        "from sklearn.preprocessing import MinMaxScaler\n",
        "\n",
        "# Load the dataset\n",
        "file_path = \"number_triplets.csv\"  # Ensure this file is uploaded in Colab\n",
        "df = pd.read_csv(file_path, header=0)\n",
        "\n",
        "# Extract input (a, b) and target (c)\n",
        "X = df[['a', 'b']].values\n",
        "y = df['c'].values\n",
        "\n",
        "# Normalize data (optional but recommended for RNNs)\n",
        "scaler_X = MinMaxScaler()\n",
        "scaler_y = MinMaxScaler()\n",
        "\n",
        "X = scaler_X.fit_transform(X)\n",
        "y = y.reshape(-1, 1)  # Ensure y is a column vector\n",
        "y = scaler_y.fit_transform(y)\n",
        "\n",
        "# Reshape X to match RNN input shape (samples, time steps, features)\n",
        "X = X.reshape(X.shape[0], 2, 1)  # Each sample has 2 time steps (a, b) and 1 feature per time step\n",
        "\n",
        "# Split into training and testing sets\n",
        "X_train, X_test, y_train, y_test = train_test_split(X, y, test_size=0.2, random_state=42)\n",
        "\n",
        "# Build the RNN model\n",
        "model = Sequential([\n",
        "    Input(shape=(2, 1)),  # 2 time steps, 1 feature per time step\n",
        "    SimpleRNN(32, activation='tanh'),  # RNN layer with 32 units\n",
        "    Dense(1, activation='linear')  # Output layer to predict c\n",
        "])\n",
        "\n",
        "# Compile the model\n",
        "model.compile(optimizer='adam', loss='mse', metrics=['mae'])\n",
        "\n",
        "# Train the model\n",
        "model.fit(X_train, y_train, epochs=50, batch_size=16, validation_data=(X_test, y_test))\n",
        "\n",
        "# Test the model with a sample input\n",
        "def predict_sum(a, b):\n",
        "    input_data = np.array([[a, b]])  # Create a NumPy array\n",
        "    input_data = scaler_X.transform(input_data)  # Normalize input using the X scaler\n",
        "    input_data = input_data.reshape(1, 2, 1)  # Reshape for RNN input\n",
        "    prediction = model.predict(input_data)\n",
        "    return scaler_y.inverse_transform(prediction.reshape(-1, 1))[0, 0]  # Convert back to original scale for prediction\n",
        "\n",
        "# Example usage\n",
        "print(\"Predicted sum of 35 + 9:\", predict_sum(35, 20))\n"
      ]
    },
    {
      "cell_type": "code",
      "source": [
        "# Test the model with a sample input\n",
        "def predict_sum(a, b):\n",
        "    input_data = np.array([[a, b]])  # Create a NumPy array\n",
        "    input_data = scaler_X.transform(input_data)  # Normalize input using the X scaler\n",
        "    input_data = input_data.reshape(1, 2, 1)  # Reshape for RNN input\n",
        "    prediction = model.predict(input_data)\n",
        "    return scaler_y.inverse_transform(prediction.reshape(-1, 1))[0, 0]  # Convert back to original scale for prediction\n",
        "\n",
        "# Example usage\n",
        "print(\"Predicted sum of 35 + 70:\", predict_sum(35, 70))"
      ],
      "metadata": {
        "colab": {
          "base_uri": "https://localhost:8080/"
        },
        "id": "0Yun2IvJFM6x",
        "outputId": "44eaa29c-fe8b-4e80-89fc-ae5392598f0b"
      },
      "execution_count": 5,
      "outputs": [
        {
          "output_type": "stream",
          "name": "stdout",
          "text": [
            "\u001b[1m1/1\u001b[0m \u001b[32m━━━━━━━━━━━━━━━━━━━━\u001b[0m\u001b[37m\u001b[0m \u001b[1m0s\u001b[0m 38ms/step\n",
            "Predicted sum of 35 + 9: 105.04445\n"
          ]
        }
      ]
    }
  ]
}